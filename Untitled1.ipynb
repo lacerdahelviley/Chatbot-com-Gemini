{
  "nbformat": 4,
  "nbformat_minor": 0,
  "metadata": {
    "colab": {
      "provenance": [],
      "authorship_tag": "ABX9TyMvG7TXxFffYDOQ/fqd3+dW",
      "include_colab_link": true
    },
    "kernelspec": {
      "name": "python3",
      "display_name": "Python 3"
    },
    "language_info": {
      "name": "python"
    }
  },
  "cells": [
    {
      "cell_type": "markdown",
      "metadata": {
        "id": "view-in-github",
        "colab_type": "text"
      },
      "source": [
        "<a href=\"https://colab.research.google.com/github/lacerdahelviley/Chatbot-com-Gemini/blob/main/Untitled1.ipynb\" target=\"_parent\"><img src=\"https://colab.research.google.com/assets/colab-badge.svg\" alt=\"Open In Colab\"/></a>"
      ]
    },
    {
      "cell_type": "markdown",
      "source": [
        "#Instalando o SDK do Google"
      ],
      "metadata": {
        "id": "SNbcCg2heSgC"
      }
    },
    {
      "cell_type": "code",
      "source": [
        "!pip install -q -U google-generativeai"
      ],
      "metadata": {
        "id": "qbn1NT2heSFS"
      },
      "execution_count": null,
      "outputs": []
    },
    {
      "cell_type": "code",
      "execution_count": null,
      "metadata": {
        "id": "Vn3YZ2P0eNt0"
      },
      "outputs": [],
      "source": [
        "import google.generativeai as genai\n",
        "from google.colab import userdata\n",
        "api_key = userdata.get(\"SECRET_KEY\")\n",
        "genai.configure(api_key=api_key)"
      ]
    },
    {
      "cell_type": "markdown",
      "source": [],
      "metadata": {
        "id": "thqQ052hyYlS"
      }
    },
    {
      "cell_type": "markdown",
      "source": [
        "###Listar os modelos disponíveis\n"
      ],
      "metadata": {
        "id": "5QhvEKSBeq2c"
      }
    },
    {
      "cell_type": "code",
      "source": [
        "for model in genai.list_models():\n",
        "  if 'generateContent' in model.supported_generation_methods:\n",
        "    print(model.name)"
      ],
      "metadata": {
        "colab": {
          "base_uri": "https://localhost:8080/",
          "height": 139
        },
        "id": "ZIdBwb3PenCF",
        "outputId": "044436e3-788f-4a10-b238-922ff8a116c1"
      },
      "execution_count": null,
      "outputs": [
        {
          "output_type": "stream",
          "name": "stdout",
          "text": [
            "models/gemini-1.0-pro\n",
            "models/gemini-1.0-pro-001\n",
            "models/gemini-1.0-pro-latest\n",
            "models/gemini-1.0-pro-vision-latest\n",
            "models/gemini-1.5-pro-latest\n",
            "models/gemini-pro\n",
            "models/gemini-pro-vision\n"
          ]
        }
      ]
    },
    {
      "cell_type": "markdown",
      "source": [
        "####Campo de filtragem de palavras, onde será definido a possibilidade de usar uma variedade de sinônimos"
      ],
      "metadata": {
        "id": "0kU97Yx3hVft"
      }
    },
    {
      "cell_type": "code",
      "source": [
        "generation_config = {\n",
        "    'candidate_count': 1,\n",
        "    \"temperature\": 0.6,\n",
        "    \"top_p\": 1\n",
        "}"
      ],
      "metadata": {
        "id": "BoNTuTYjfxUQ"
      },
      "execution_count": null,
      "outputs": []
    },
    {
      "cell_type": "markdown",
      "source": [
        "####Definição de variável de filtro de segurança, como assédio, conteúdio de ódio, sexualmente explícito ou perigoso"
      ],
      "metadata": {
        "id": "9Afw1y-Thmr9"
      }
    },
    {
      "cell_type": "code",
      "source": [
        "safety_security = {\n",
        "    \"HARASSMENT\": \"BLOCK_NONE\",\n",
        "    \"HATE\": \"BLOCK_NONE\",\n",
        "    \"SEXUAL\": \"BLOCK_NONE\",\n",
        "    \"DANGEROUS\": \"BLOCK_NONE\",\n",
        "}"
      ],
      "metadata": {
        "id": "j3Dm6DUJgdB7"
      },
      "execution_count": null,
      "outputs": []
    },
    {
      "cell_type": "markdown",
      "source": [
        "##Inicializando o modelo"
      ],
      "metadata": {
        "id": "lz3D2Puzh3sr"
      }
    },
    {
      "cell_type": "code",
      "source": [
        "modelo = genai.GenerativeModel(model_name=\"gemini-1.0-pro\",\n",
        "                               generation_config=generation_config,\n",
        "                               safety_settings=safety_security)"
      ],
      "metadata": {
        "id": "GTP2y9BFh8g2"
      },
      "execution_count": null,
      "outputs": []
    },
    {
      "cell_type": "code",
      "source": [
        "chat = modelo.start_chat(history=[])"
      ],
      "metadata": {
        "id": "olUEiXVcjY5L"
      },
      "execution_count": null,
      "outputs": []
    },
    {
      "cell_type": "code",
      "source": [
        "prompt = input(\"Esperando prompt: \")\n",
        "\n",
        "while prompt != \"fim\":\n",
        "  response = chat.send_message(prompt)\n",
        "  print(\"Resposta\", response.text, \"\\n\")\n",
        "  prompt = input(\"Esperando prompt: \")\n",
        ""
      ],
      "metadata": {
        "id": "s16gr4HZjvbO"
      },
      "execution_count": null,
      "outputs": []
    },
    {
      "cell_type": "code",
      "source": [
        "import textwrap\n",
        "from IPython.display import display\n",
        "from IPython.display import Markdown\n",
        "\n",
        "def to_markdown(text):\n",
        "  text = text.replace('*', '     *')\n",
        "  return Markdown(textwrap.indent(text, '> ', predicate=lambda _: True))\n",
        "\n",
        "  #imprimindo o histórico\n",
        "  for message in chat.history:\n",
        "    display(to_markdown(f'**{message.role}**: {message.parts[0].text}'))\n",
        "    print('------------------------------------')"
      ],
      "metadata": {
        "id": "A9uHto2OmXRA"
      },
      "execution_count": null,
      "outputs": []
    }
  ]
}